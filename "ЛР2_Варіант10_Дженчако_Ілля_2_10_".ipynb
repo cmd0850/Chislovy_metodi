{
  "nbformat": 4,
  "nbformat_minor": 0,
  "metadata": {
    "colab": {
      "provenance": [],
      "include_colab_link": true
    },
    "kernelspec": {
      "name": "python3",
      "display_name": "Python 3"
    },
    "language_info": {
      "name": "python"
    }
  },
  "cells": [
    {
      "cell_type": "markdown",
      "metadata": {
        "id": "view-in-github",
        "colab_type": "text"
      },
      "source": [
        "<a href=\"https://colab.research.google.com/github/cmd0850/Chislovy_metodi/blob/main/%22%D0%9B%D0%A02_%D0%92%D0%B0%D1%80%D1%96%D0%B0%D0%BD%D1%8210_%D0%94%D0%B6%D0%B5%D0%BD%D1%87%D0%B0%D0%BA%D0%BE_%D0%86%D0%BB%D0%BB%D1%8F_2_10_%22.ipynb\" target=\"_parent\"><img src=\"https://colab.research.google.com/assets/colab-badge.svg\" alt=\"Open In Colab\"/></a>"
      ]
    },
    {
      "cell_type": "markdown",
      "source": [
        "1. Метод ділення навпіл."
      ],
      "metadata": {
        "id": "VgrW9zRY0dVt"
      }
    },
    {
      "cell_type": "code",
      "execution_count": null,
      "metadata": {
        "colab": {
          "base_uri": "https://localhost:8080/"
        },
        "id": "iOTNXySVyeHy",
        "outputId": "3b81b06c-9bc8-4c36-a144-d6b5f0a513bf"
      },
      "outputs": [
        {
          "output_type": "stream",
          "name": "stdout",
          "text": [
            "Результати обчислень\n",
            "\n",
            "          a      F(a)         c      F(c)       b      F(b)\n",
            "0 -3.000000  0.977954 -2.000000  1.135204 -1.0000 -0.454649\n",
            "1 -2.000000  1.135204 -1.500000 -0.123480 -1.0000 -0.454649\n",
            "2 -2.000000  1.135204 -1.750000  0.405593 -1.5000 -0.123480\n",
            "3 -1.750000  0.405593 -1.625000  0.109040 -1.5000 -0.123480\n",
            "4 -1.625000  0.109040 -1.562500 -0.015587 -1.5000 -0.123480\n",
            "5 -1.625000  0.109040 -1.593750  0.044659 -1.5625 -0.015587\n",
            "6 -1.593750  0.044659 -1.578125  0.014015 -1.5625 -0.015587\n",
            "7 -1.578125  0.014015 -1.570312 -0.000917 -1.5625 -0.015587\n",
            "\n",
            "В точці с =  -1.5703125 , f(c) =  -0.0009171268569415665\n"
          ]
        }
      ],
      "source": [
        "import numpy as np\n",
        "import pandas as pd\n",
        "\n",
        "# Визначаємо функцію\n",
        "def f (x):\n",
        "    y = np.cos(x)*np.sin(x)*(x**2+x+1)\n",
        "    return y\n",
        "# Визначаємо границі відрізку\n",
        "a = -3\n",
        "b = -1\n",
        "# Визначаємо точність розв'язку\n",
        "h = 0.001\n",
        "# Поділяємо відрізок навпіл\n",
        "c = (a+b)/2\n",
        "# Зберігаємо результати обчислень\n",
        "data_A = [a]\n",
        "data_B = [b]\n",
        "data_C = [c]\n",
        "data_F_A = [f(a)]\n",
        "data_F_B = [f(b)]\n",
        "data_F_C = [f(c)]\n",
        "# Перевіряємо досягнення точності\n",
        "while abs(f(c)) > h:\n",
        "    # Звужуємо відрізок\n",
        "    if np.sign(f(c)) == np.sign(f(a)):\n",
        "        a = c\n",
        "    else:\n",
        "        b = c\n",
        "    # Поділяємо відрізок навпіл\n",
        "    c = (a+b)/2\n",
        "    # Зберігаємо результати обчислень\n",
        "    data_A.append(a)\n",
        "    data_B.append(b)\n",
        "    data_C.append(c)\n",
        "    data_F_A.append(f(a))\n",
        "    data_F_B.append(f(b))\n",
        "    data_F_C.append(f(c))\n",
        "# Відображаємо результати обчислень\n",
        "print('Результати обчислень')\n",
        "print()\n",
        "data = pd.DataFrame({'a': data_A,\n",
        "                     'F(a)': data_F_A,\n",
        "                     'c': data_C,\n",
        "                     'F(c)': data_F_C,\n",
        "                     'b': data_B,\n",
        "                     'F(b)': data_F_B})\n",
        "print(data)\n",
        "# Відображаємо наближений корінь рівняння\n",
        "print()\n",
        "print('В точці с = ', c, ', f(c) = ', f(c))"
      ]
    },
    {
      "cell_type": "markdown",
      "source": [
        "2. Метод ділення навпіл"
      ],
      "metadata": {
        "id": "5hYa7ucn0PEN"
      }
    },
    {
      "cell_type": "code",
      "source": [
        "import numpy as np\n",
        "import scipy.optimize as sp\n",
        "\n",
        "def f(x):\n",
        "    y = np.cos(x)*np.sin(x)*(x**2+x+1)\n",
        "    return y\n",
        "\n",
        "a, b = -3, -1\n",
        "tol = 1.e-3\n",
        "\n",
        "x = sp.bisect(f, a, b,(),tol) #функція для метода\n",
        "\n",
        "print('The approximate solution x is:', x)\n",
        "print('And the value f(x) is:', f(x))"
      ],
      "metadata": {
        "colab": {
          "base_uri": "https://localhost:8080/"
        },
        "id": "ML3KEw5q0H1e",
        "outputId": "9df4cd4c-20f9-4918-ff67-2ee2d244deb1"
      },
      "execution_count": null,
      "outputs": [
        {
          "output_type": "stream",
          "name": "stdout",
          "text": [
            "The approximate solution x is: -1.5712890625\n",
            "And the value f(x) is: 0.0009350448126615916\n"
          ]
        }
      ]
    },
    {
      "cell_type": "markdown",
      "source": [
        "3. Метод хорд"
      ],
      "metadata": {
        "id": "sYf0IvR41ufd"
      }
    },
    {
      "cell_type": "code",
      "source": [
        "import numpy as np\n",
        "import pandas as pd\n",
        "# Визначаємо функцію\n",
        "def f(x):\n",
        "    y = np.cos(x)*np.sin(x)*(x**2+x+1)\n",
        "    return y\n",
        "# Визначаємо межі відрізку\n",
        "a = -3\n",
        "b = -1\n",
        "# Визначаємо точність розв'язку\n",
        "h = 0.001\n",
        "# Точка, де хорда перетинає вісь 0x\n",
        "c = (f(a)*b-a*f(b))/(f(a)-f(b))\n",
        "\n",
        "# Зберігаємо результати обчислень\n",
        "data_A = [a]\n",
        "data_B = [b]\n",
        "data_C = [c]\n",
        "data_F_A = [f(a)]\n",
        "data_F_B = [f(b)]\n",
        "data_F_C = [f(c)]\n",
        "# Перевіряємо досягнення точності\n",
        "while abs(f(c)) > h:\n",
        "    # Звужуємо відрізок\n",
        "    if np.sign(f(c)) == np.sign(f(a)):\n",
        "        a = c\n",
        "    else:\n",
        "        b = c\n",
        "    # Точка, де хорда перетинає вісь 0x\n",
        "    c = (f(a)*b-a*f(b))/(f(a)-f(b))\n",
        "    # Зберігаємо результати обчислень\n",
        "    data_A.append(a)\n",
        "    data_B.append(b)\n",
        "    data_C.append(c)\n",
        "    data_F_A.append(f(a))\n",
        "    data_F_B.append(f(b))\n",
        "    data_F_C.append(f(c))\n",
        "# Відображаємо результати обчислень\n",
        "print('Результати обчислень')\n",
        "print()\n",
        "data = pd.DataFrame({'a': data_A, 'F(a)': data_F_A,\n",
        "                     'c': data_C, 'F(c)': data_F_C,\n",
        "                     'b': data_B, 'F(b)': data_F_B})\n",
        "print(data)\n",
        "# Відображаємо наближений корінь рівняння\n",
        "print()\n",
        "print('В точці с = ', c, ', f(c) = ', f(c))"
      ],
      "metadata": {
        "colab": {
          "base_uri": "https://localhost:8080/"
        },
        "id": "3p6i5xHK1y3l",
        "outputId": "57a05de4-9ee4-48a5-dd25-b83f7767043c"
      },
      "execution_count": null,
      "outputs": [
        {
          "output_type": "stream",
          "name": "stdout",
          "text": [
            "Результати обчислень\n",
            "\n",
            "          a      F(a)         c      F(c)         b      F(b)\n",
            "0 -3.000000  0.977954 -1.634717  0.129889 -1.000000 -0.454649\n",
            "1 -1.634717  0.129889 -1.493678 -0.133455 -1.000000 -0.454649\n",
            "2 -1.634717  0.129889 -1.565152 -0.010636 -1.493678 -0.133455\n",
            "3 -1.634717  0.129889 -1.570418 -0.000718 -1.565152 -0.010636\n",
            "\n",
            "В точці с =  -1.5704175737258015 , f(c) =  -0.0007180376446871882\n"
          ]
        }
      ]
    },
    {
      "cell_type": "markdown",
      "source": [
        "4. Метод Ньютона (дотичних)"
      ],
      "metadata": {
        "id": "40blPBSK2Cdm"
      }
    },
    {
      "cell_type": "code",
      "source": [
        "import numpy as np\n",
        "import pandas as pd\n",
        "# Визначаємо функцію\n",
        "def f(x):\n",
        "    y = np.cos(x)*np.sin(x)*(x**2+x+1)\n",
        "    return y\n",
        "# Визначаємо першу похідну\n",
        "def df(x):\n",
        "    y1 = -(x**2+x+1)*(np.sin(x))**2\n",
        "    y2 = (x**2+x+1)*(np.cos(x))**2\n",
        "    y3 = (2*x+1)*np.sin(x)*np.cos(x)\n",
        "    y = y1+y2+y3\n",
        "    return y\n",
        "# Визначаємо початкову точку\n",
        "c = -1.4\n",
        "# Визначаємо точність розв'язку\n",
        "h = 0.001\n",
        "# Зберігаємо результати обчислень\n",
        "data_C = [c]\n",
        "data_F_C = [f(c)]\n",
        "# Перевіряємо досягнення точності\n",
        "while abs(f(c)) > h:\n",
        "    # Точка, де дотична перетинає вісь 0x\n",
        "    c -= f(c)/df(c)\n",
        "    # Зберігаємо результати обчислень\n",
        "    data_C.append(c)\n",
        "    data_F_C.append(f(c))\n",
        "# Відображаємо результати обчислень\n",
        "print('Результати обчислень')\n",
        "print()\n",
        "data = pd.DataFrame({'c': data_C, 'F(c)': data_F_C})\n",
        "print(data)\n",
        "# Відображаємо наближений корінь рівняння\n",
        "print()\n",
        "print('В точці с = ', c, ', f(c) = ', f(c))"
      ],
      "metadata": {
        "colab": {
          "base_uri": "https://localhost:8080/"
        },
        "id": "WeGQjbjW2HDz",
        "outputId": "7fd55bf4-4d4c-43ea-ce09-3fbf365aa5c5"
      },
      "execution_count": null,
      "outputs": [
        {
          "output_type": "stream",
          "name": "stdout",
          "text": [
            "Результати обчислень\n",
            "\n",
            "          c      F(c)\n",
            "0 -1.400000 -0.261291\n",
            "1 -1.623636  0.106144\n",
            "2 -1.573564  0.005266\n",
            "3 -1.570805  0.000016\n",
            "\n",
            "В точці с =  -1.5708049170979717 , f(c) =  1.6292567852764437e-05\n"
          ]
        }
      ]
    },
    {
      "cell_type": "markdown",
      "source": [
        "5. Метод Ньютона (дотичних)"
      ],
      "metadata": {
        "id": "qjI38bTp0xCo"
      }
    },
    {
      "cell_type": "code",
      "source": [
        "import numpy as np\n",
        "import scipy.optimize as sp\n",
        "\n",
        "def f(x):\n",
        "    y = np.cos(x)*np.sin(x)*(x**2+x+1)\n",
        "    return y\n",
        "\n",
        "def df(x):# Обчислення похідної\n",
        "    y1 = -(x**2+x+1)*(np.sin(x))**2\n",
        "    y2 = (x**2+x+1)*(np.cos(x))**2\n",
        "    y3 = (2*x+1)*np.sin(x)*np.cos(x)\n",
        "    y = y1+y2+y3\n",
        "    return y\n",
        "\n",
        "x0 = -1.4\n",
        "x1 = 1.4\n",
        "\n",
        "x_0 = sp.newton(f, x0, df, tol=1.e-3, maxiter=50)\n",
        "x_1 = sp.newton(f, x1, df, tol=1.e-3, maxiter=50)\n",
        "\n",
        "print('The approximate solution x is:', x_0)\n",
        "print('And the value f(x_0) is:', f(x_0))\n",
        "\n",
        "print('The approximate solution x is:', x_1)\n",
        "print('And the value f(x_0) is:', f(x_1))"
      ],
      "metadata": {
        "colab": {
          "base_uri": "https://localhost:8080/"
        },
        "id": "AonZxq_H0m6-",
        "outputId": "7acab5b7-6894-4cb1-b0d3-217d498bae02"
      },
      "execution_count": null,
      "outputs": [
        {
          "output_type": "stream",
          "name": "stdout",
          "text": [
            "The approximate solution x is: -1.5707963268782201\n",
            "And the value f(x_0) is: 1.5803176499052036e-10\n",
            "The approximate solution x is: 1.5707963267958693\n",
            "And the value f(x_0) is: -4.9007361645997675e-12\n"
          ]
        }
      ]
    },
    {
      "cell_type": "markdown",
      "source": [
        " # Знаходження коренів рівняння за допомогою бібліотеки SymPy"
      ],
      "metadata": {
        "id": "pvK9N9TH1QD-"
      }
    },
    {
      "cell_type": "code",
      "source": [
        "import sympy as sym\n",
        "\n",
        "x = sym.Symbol('x')\n",
        "\n",
        "y = sym.cos(x)*sym.sin(x)*(x**2+x+1)\n",
        "\n",
        "s = sym.solve(y)\n",
        "\n",
        "print(s)"
      ],
      "metadata": {
        "colab": {
          "base_uri": "https://localhost:8080/"
        },
        "id": "PuAp1WCr08qt",
        "outputId": "36c578b1-b0b4-40d5-8142-44bf252e747d"
      },
      "execution_count": null,
      "outputs": [
        {
          "output_type": "stream",
          "name": "stdout",
          "text": [
            "[0, pi/2, pi, 3*pi/2, -1/2 - sqrt(3)*I/2, -1/2 + sqrt(3)*I/2]\n"
          ]
        }
      ]
    },
    {
      "cell_type": "code",
      "source": [
        "import sympy as sym\n",
        "\n",
        "x, a, b, c = sym.symbols('x, a, b, c')\n",
        "\n",
        "y = a * x**2 + b * x + c\n",
        "\n",
        "s = sym.solve(y, x)\n",
        "\n",
        "print(s)"
      ],
      "metadata": {
        "colab": {
          "base_uri": "https://localhost:8080/"
        },
        "id": "Y0d-uHtp1c7r",
        "outputId": "42a681c2-3c44-4db2-dbe7-7c1615e9bbe9"
      },
      "execution_count": null,
      "outputs": [
        {
          "output_type": "stream",
          "name": "stdout",
          "text": [
            "[(-b - sqrt(-4*a*c + b**2))/(2*a), (-b + sqrt(-4*a*c + b**2))/(2*a)]\n"
          ]
        }
      ]
    },
    {
      "cell_type": "markdown",
      "source": [],
      "metadata": {
        "id": "mk1oBvYj1GC2"
      }
    },
    {
      "cell_type": "code",
      "source": [
        "!pip install numdifftools"
      ],
      "metadata": {
        "colab": {
          "base_uri": "https://localhost:8080/"
        },
        "id": "yiLJNuM3Cq0-",
        "outputId": "39d2784f-490b-4b58-ff90-ea84ea4038d6"
      },
      "execution_count": null,
      "outputs": [
        {
          "output_type": "stream",
          "name": "stdout",
          "text": [
            "Collecting numdifftools\n",
            "  Downloading numdifftools-0.9.41-py2.py3-none-any.whl.metadata (39 kB)\n",
            "Requirement already satisfied: numpy>=1.9 in /usr/local/lib/python3.12/dist-packages (from numdifftools) (2.0.2)\n",
            "Requirement already satisfied: scipy>=0.8 in /usr/local/lib/python3.12/dist-packages (from numdifftools) (1.16.1)\n",
            "Downloading numdifftools-0.9.41-py2.py3-none-any.whl (100 kB)\n",
            "\u001b[2K   \u001b[90m━━━━━━━━━━━━━━━━━━━━━━━━━━━━━━━━━━━━━━━━\u001b[0m \u001b[32m100.2/100.2 kB\u001b[0m \u001b[31m4.2 MB/s\u001b[0m eta \u001b[36m0:00:00\u001b[0m\n",
            "\u001b[?25hInstalling collected packages: numdifftools\n",
            "Successfully installed numdifftools-0.9.41\n"
          ]
        }
      ]
    },
    {
      "cell_type": "code",
      "source": [
        "#Лабораторна робота 2\n",
        "#Відокремлення коренів\n",
        "import numpy as np\n",
        "import numdifftools as nd\n",
        "\n",
        "def f(x):\n",
        "    return x**4-108*x+7\n",
        "\n",
        "\n",
        "def find_segments(): #відокремлюємо корені\n",
        "    search_range = np.arange(-10, 10, 1)\n",
        "\n",
        "    a = None\n",
        "    previous_x = None\n",
        "    current_x  = None\n",
        "    segments = []\n",
        "\n",
        "    for x in search_range:\n",
        "        x = round(x, 4)\n",
        "        current_x = f(x)\n",
        "        if previous_x != None and previous_x * current_x < 0:\n",
        "            segments.append((a, x))\n",
        "        a = x\n",
        "        previous_x = current_x\n",
        "    return segments\n",
        "\n",
        "segments = find_segments()\n",
        "for a, b in segments:\n",
        "    print(f'Found segment:  [{a}, {b}]')\n"
      ],
      "metadata": {
        "colab": {
          "base_uri": "https://localhost:8080/"
        },
        "id": "L-9dn4npCso-",
        "outputId": "8850d9d4-8542-4106-f173-dce867500736"
      },
      "execution_count": null,
      "outputs": [
        {
          "output_type": "stream",
          "name": "stdout",
          "text": [
            "Found segment:  [0, 1]\n",
            "Found segment:  [4, 5]\n"
          ]
        }
      ]
    },
    {
      "cell_type": "code",
      "source": [
        "import numpy as np\n",
        "import matplotlib.pyplot as plt\n",
        "\n",
        "# Визначення функції\n",
        "def f(x):\n",
        "    return x**4-108*x+7\n",
        "\n",
        "# Генерація значень x\n",
        "x = np.linspace(-2, 6, 100)\n",
        "\n",
        "# Генерація значень y\n",
        "y = f(x)\n",
        "\n",
        "# Побудова графіка\n",
        "plt.figure(figsize=(8, 6))\n",
        "plt.plot(x, y, label='x**4-108*x+7', color='blue')\n",
        "plt.title('Графік функції x**4-108*x+7')\n",
        "plt.xlabel('x')\n",
        "plt.ylabel('f(x)')\n",
        "\n",
        "# Додавання осей з стрілками\n",
        "plt.axhline(0, color='black', linewidth=0.5)\n",
        "plt.axvline(0, color='black', linewidth=0.5)\n",
        "\n",
        "plt.text(2.05, -4, 'x', ha='center', va='center')\n",
        "plt.text(-0.3, 190, 'y', ha='center', va='center')\n",
        "\n",
        "plt.grid(True)\n",
        "plt.legend()\n",
        "plt.show()\n"
      ],
      "metadata": {
        "colab": {
          "base_uri": "https://localhost:8080/",
          "height": 564
        },
        "id": "7zUI3d1xZXar",
        "outputId": "5f03c678-b39e-4a66-e51f-432a79ed392c"
      },
      "execution_count": null,
      "outputs": [
        {
          "output_type": "display_data",
          "data": {
            "text/plain": [
              "<Figure size 800x600 with 1 Axes>"
            ],
            "image/png": "[encoded data removed]"
          },
          "metadata": {}
        }
      ]
    },
    {
      "cell_type": "markdown",
      "source": [
        "![image.png](data:image/png;base64,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)"
      ],
      "metadata": {
        "id": "eb9uwLLsZg_X"
      }
    },
    {
      "cell_type": "code",
      "source": [
        "#Лабораторна робота. Метод половинного ділення, хорд\n",
        "\n",
        "\n",
        "def rec(a, b, eps):  # метод половинного ділення\n",
        "    while (abs(a - b) > eps):\n",
        "        if f(a) * f((a + b) / 2) < 0:\n",
        "            b = (a + b) / 2\n",
        "        else:\n",
        "            a = (a + b) / 2\n",
        "        x = (a + b) / 2\n",
        "\n",
        "    print('x= ', round(x, 5), '  -   Half division method')\n"
      ],
      "metadata": {
        "id": "BgjK94O9Cfxe"
      },
      "execution_count": null,
      "outputs": []
    },
    {
      "cell_type": "code",
      "source": [
        "def hord(a, b, eps):  # метод хорд\n",
        "    derivative_f = nd.Derivative(f, n=1)\n",
        "    if f(a) * derivative_f(a) > 0:\n",
        "        x0 = a\n",
        "        xi = b\n",
        "    else:\n",
        "        x0 = b\n",
        "        xi = a\n",
        "    xi_1 = xi - (xi - x0) * f(xi) / (f(xi) - f(x0))\n",
        "    while (abs(xi_1 - xi) > eps):\n",
        "        xi = xi_1\n",
        "        xi_1 = xi - (xi - x0) * f(xi) / (f(xi) - f(x0))\n",
        "    print('x= ', round(xi_1, 5), '  -   Chord method')\n"
      ],
      "metadata": {
        "id": "Sz_KWVf7D2tL"
      },
      "execution_count": null,
      "outputs": []
    },
    {
      "cell_type": "code",
      "source": [
        "if __name__ == \"__main__\":\n",
        "    a1, b1 = 0, 1\n",
        "    a2, b2 = 4, 5\n",
        "    eps = 0.001\n",
        "    print(\"Розв'язки на відрізку [0,1]\")\n",
        "    rec(a1, b1, eps)\n",
        "    hord(a1, b1, eps)\n",
        "    print(\"\\n Розв'язки на відрізку [4,5]\")\n",
        "    rec(a2, b2, eps)\n",
        "    hord(a2, b2, eps)"
      ],
      "metadata": {
        "id": "upx7R4yoFZj_",
        "outputId": "2ffa04fa-a8f7-4998-fdc5-d5ad59344d75",
        "colab": {
          "base_uri": "https://localhost:8080/"
        }
      },
      "execution_count": null,
      "outputs": [
        {
          "output_type": "stream",
          "name": "stdout",
          "text": [
            "Розв'язки на відрізку [0,1]\n",
            "x=  0.06494   -   Half division method\n",
            "x=  0.06481   -   Chord method\n",
            "\n",
            " Розв'язки на відрізку [4,5]\n",
            "x=  4.74072   -   Half division method\n",
            "x=  4.7403   -   Chord method\n"
          ]
        }
      ]
    }
  ]
}