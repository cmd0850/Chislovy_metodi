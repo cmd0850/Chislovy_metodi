{
  "nbformat": 4,
  "nbformat_minor": 0,
  "metadata": {
    "colab": {
      "provenance": [],
      "include_colab_link": true
    },
    "kernelspec": {
      "name": "python3",
      "display_name": "Python 3"
    },
    "language_info": {
      "name": "python"
    }
  },
  "cells": [
    {
      "cell_type": "markdown",
      "metadata": {
        "id": "view-in-github",
        "colab_type": "text"
      },
      "source": [
        "<a href=\"https://colab.research.google.com/github/cmd0850/Chislovy_metodi/blob/main/%D0%BB%D1%803_%D0%94%D0%B6%D0%B5%D0%BD%D1%87%D0%B0%D0%BA%D0%BE_%D0%86%D0%BB%D0%BB%D1%8F_%D0%B2%D0%B0%D1%80%D1%96%D0%B0%D0%BD%D1%8210_ipynb2%22.ipynb\" target=\"_parent\"><img src=\"https://colab.research.google.com/assets/colab-badge.svg\" alt=\"Open In Colab\"/></a>"
      ]
    },
    {
      "cell_type": "markdown",
      "source": [
        "Філімонова Тетяна. Варіант 3"
      ],
      "metadata": {
        "id": "HlvFbYQzhdIu"
      }
    },
    {
      "cell_type": "markdown",
      "source": [
        "1. Метод ділення навпіл."
      ],
      "metadata": {
        "id": "VgrW9zRY0dVt"
      }
    },
    {
      "cell_type": "code",
      "execution_count": null,
      "metadata": {
        "colab": {
          "base_uri": "https://localhost:8080/"
        },
        "id": "iOTNXySVyeHy",
        "outputId": "6651b705-a60c-4c62-bbfd-78e4bac9ef61"
      },
      "outputs": [
        {
          "output_type": "stream",
          "name": "stdout",
          "text": [
            "Результати обчислень\n",
            "\n",
            "          a      F(a)         c      F(c)       b      F(b)\n",
            "0 -3.000000  0.977954 -2.000000  1.135204 -1.0000 -0.454649\n",
            "1 -2.000000  1.135204 -1.500000 -0.123480 -1.0000 -0.454649\n",
            "2 -2.000000  1.135204 -1.750000  0.405593 -1.5000 -0.123480\n",
            "3 -1.750000  0.405593 -1.625000  0.109040 -1.5000 -0.123480\n",
            "4 -1.625000  0.109040 -1.562500 -0.015587 -1.5000 -0.123480\n",
            "5 -1.625000  0.109040 -1.593750  0.044659 -1.5625 -0.015587\n",
            "6 -1.593750  0.044659 -1.578125  0.014015 -1.5625 -0.015587\n",
            "7 -1.578125  0.014015 -1.570312 -0.000917 -1.5625 -0.015587\n",
            "\n",
            "В точці с =  -1.5703125 , f(c) =  -0.0009171268569415665\n"
          ]
        }
      ],
      "source": [
        "import numpy as np\n",
        "import pandas as pd\n",
        "\n",
        "# Визначаємо функцію\n",
        "def f (x):\n",
        "    y = np.cos(x)*np.sin(x)*(x**2+x+1)\n",
        "    return y\n",
        "# Визначаємо границі відрізку\n",
        "a, b = -3, -1\n",
        "# Визначаємо точність розв'язку\n",
        "eps = 0.001\n",
        "# Поділяємо відрізок навпіл\n",
        "c = (a+b)/2\n",
        "# Зберігаємо результати обчислень\n",
        "data_A = [a]\n",
        "data_B = [b]\n",
        "data_C = [c]\n",
        "data_F_A = [f(a)]\n",
        "data_F_B = [f(b)]\n",
        "data_F_C = [f(c)]\n",
        "# Перевіряємо досягнення точності\n",
        "while np.abs(f(c)) > eps:\n",
        "    # Звужуємо відрізок\n",
        "    if np.sign(f(c)) == np.sign(f(a)):\n",
        "        a = c\n",
        "    else:\n",
        "        b = c\n",
        "    # Поділяємо відрізок навпіл\n",
        "    c = (a+b)/2\n",
        "    # Зберігаємо результати обчислень\n",
        "    data_A.append(a)\n",
        "    data_B.append(b)\n",
        "    data_C.append(c)\n",
        "    data_F_A.append(f(a))\n",
        "    data_F_B.append(f(b))\n",
        "    data_F_C.append(f(c))\n",
        "# Відображаємо результати обчислень\n",
        "print('Результати обчислень')\n",
        "print()\n",
        "data = pd.DataFrame({'a': data_A,\n",
        "                     'F(a)': data_F_A,\n",
        "                     'c': data_C,\n",
        "                     'F(c)': data_F_C,\n",
        "                     'b': data_B,\n",
        "                     'F(b)': data_F_B})\n",
        "print(data)\n",
        "# Відображаємо наближений корінь рівняння\n",
        "print()\n",
        "print('В точці с = ', c, ', f(c) = ', f(c))"
      ]
    },
    {
      "cell_type": "markdown",
      "source": [
        "2. Метод ділення навпіл"
      ],
      "metadata": {
        "id": "5hYa7ucn0PEN"
      }
    },
    {
      "cell_type": "code",
      "source": [
        "import numpy as np\n",
        "import scipy.optimize as sp\n",
        "\n",
        "def f(x):\n",
        "    y = np.cos(x)*np.sin(x)*(x**2+x+1)\n",
        "    return y\n",
        "\n",
        "a, b = -3, -1\n",
        "eps = 1.e-3\n",
        "\n",
        "x = sp.bisect(f, a, b,(),eps) #функція для метода\n",
        "\n",
        "print('The approximate solution x is:', x)\n",
        "print('And the value f(x) is:', f(x))"
      ],
      "metadata": {
        "colab": {
          "base_uri": "https://localhost:8080/"
        },
        "id": "ML3KEw5q0H1e",
        "outputId": "2825b691-af3b-4bc2-cafb-a91aea5ec995"
      },
      "execution_count": null,
      "outputs": [
        {
          "output_type": "stream",
          "name": "stdout",
          "text": [
            "The approximate solution x is: -1.5712890625\n",
            "And the value f(x) is: 0.0009350448126615916\n"
          ]
        }
      ]
    },
    {
      "cell_type": "markdown",
      "source": [
        "3. Метод хорд"
      ],
      "metadata": {
        "id": "sYf0IvR41ufd"
      }
    },
    {
      "cell_type": "code",
      "source": [
        "import numpy as np\n",
        "import pandas as pd\n",
        "# Визначаємо функцію\n",
        "def f(x):\n",
        "    y = np.cos(x)*np.sin(x)*(x**2+x+1)\n",
        "    return y\n",
        "# Визначаємо межі відрізку\n",
        "a, b = -3, -1\n",
        "# Визначаємо точність розв'язку\n",
        "eps = 0.001\n",
        "# Точка, де хорда перетинає вісь 0x\n",
        "c = (f(a)*b-a*f(b))/(f(a)-f(b))\n",
        "\n",
        "# Зберігаємо результати обчислень\n",
        "data_A = [a]\n",
        "data_B = [b]\n",
        "data_C = [c]\n",
        "data_F_A = [f(a)]\n",
        "data_F_B = [f(b)]\n",
        "data_F_C = [f(c)]\n",
        "# Перевіряємо досягнення точності\n",
        "while np.abs(f(c)) > eps:\n",
        "    # Звужуємо відрізок\n",
        "    if np.sign(f(c)) == np.sign(f(a)):\n",
        "        a = c\n",
        "    else:\n",
        "        b = c\n",
        "    # Точка, де хорда перетинає вісь 0x\n",
        "    c = (f(a)*b-a*f(b))/(f(a)-f(b))\n",
        "    # Зберігаємо результати обчислень\n",
        "    data_A.append(a)\n",
        "    data_B.append(b)\n",
        "    data_C.append(c)\n",
        "    data_F_A.append(f(a))\n",
        "    data_F_B.append(f(b))\n",
        "    data_F_C.append(f(c))\n",
        "# Відображаємо результати обчислень\n",
        "print('Результати обчислень')\n",
        "print()\n",
        "data = pd.DataFrame({'a': data_A, 'F(a)': data_F_A,\n",
        "                     'c': data_C, 'F(c)': data_F_C,\n",
        "                     'b': data_B, 'F(b)': data_F_B})\n",
        "print(data)\n",
        "# Відображаємо наближений корінь рівняння\n",
        "print()\n",
        "print('В точці с = ', c, ', f(c) = ', f(c))"
      ],
      "metadata": {
        "colab": {
          "base_uri": "https://localhost:8080/"
        },
        "id": "3p6i5xHK1y3l",
        "outputId": "a60d7c7e-042a-4593-de2f-0e67b5c10aba"
      },
      "execution_count": null,
      "outputs": [
        {
          "output_type": "stream",
          "name": "stdout",
          "text": [
            "Результати обчислень\n",
            "\n",
            "          a      F(a)         c      F(c)         b      F(b)\n",
            "0 -3.000000  0.977954 -1.634717  0.129889 -1.000000 -0.454649\n",
            "1 -1.634717  0.129889 -1.493678 -0.133455 -1.000000 -0.454649\n",
            "2 -1.634717  0.129889 -1.565152 -0.010636 -1.493678 -0.133455\n",
            "3 -1.634717  0.129889 -1.570418 -0.000718 -1.565152 -0.010636\n",
            "\n",
            "В точці с =  -1.5704175737258015 , f(c) =  -0.0007180376446871882\n"
          ]
        }
      ]
    },
    {
      "cell_type": "markdown",
      "source": [
        "4. Метод Ньютона (дотичних)"
      ],
      "metadata": {
        "id": "40blPBSK2Cdm"
      }
    },
    {
      "cell_type": "code",
      "source": [
        "import numpy as np\n",
        "import pandas as pd\n",
        "# Визначаємо функцію\n",
        "def f(x):\n",
        "    y = np.cos(x)*np.sin(x)*(x**2+x+1)\n",
        "    return y\n",
        "# Визначаємо першу похідну\n",
        "def df(x):\n",
        "    y1 = -(x**2+x+1)*(np.sin(x))**2\n",
        "    y2 = (x**2+x+1)*(np.cos(x))**2\n",
        "    y3 = (2*x+1)*np.sin(x)*np.cos(x)\n",
        "    y = y1+y2+y3\n",
        "    return y\n",
        "# Визначаємо початкову точку\n",
        "c = -1.4\n",
        "# Визначаємо точність розв'язку\n",
        "eps = 0.001\n",
        "# Зберігаємо результати обчислень\n",
        "data_C = [c]\n",
        "data_F_C = [f(c)]\n",
        "# Перевіряємо досягнення точності\n",
        "while abs(f(c)) > eps:\n",
        "    # Точка, де дотична перетинає вісь 0x\n",
        "    c -= f(c)/df(c)\n",
        "    # Зберігаємо результати обчислень\n",
        "    data_C.append(c)\n",
        "    data_F_C.append(f(c))\n",
        "# Відображаємо результати обчислень\n",
        "print('Результати обчислень')\n",
        "print()\n",
        "data = pd.DataFrame({'c': data_C, 'F(c)': data_F_C})\n",
        "print(data)\n",
        "# Відображаємо наближений корінь рівняння\n",
        "print()\n",
        "print('В точці с = ', c, ', f(c) = ', f(c))"
      ],
      "metadata": {
        "colab": {
          "base_uri": "https://localhost:8080/"
        },
        "id": "WeGQjbjW2HDz",
        "outputId": "2a2052c1-0175-4904-aa52-9fa1104ae256"
      },
      "execution_count": null,
      "outputs": [
        {
          "output_type": "stream",
          "name": "stdout",
          "text": [
            "Результати обчислень\n",
            "\n",
            "          c      F(c)\n",
            "0 -1.400000 -0.261291\n",
            "1 -1.623636  0.106144\n",
            "2 -1.573564  0.005266\n",
            "3 -1.570805  0.000016\n",
            "\n",
            "В точці с =  -1.5708049170979717 , f(c) =  1.6292567852764437e-05\n"
          ]
        }
      ]
    },
    {
      "cell_type": "markdown",
      "source": [
        "5. Метод Ньютона (дотичних)"
      ],
      "metadata": {
        "id": "qjI38bTp0xCo"
      }
    },
    {
      "cell_type": "code",
      "source": [
        "import numpy as np\n",
        "import scipy.optimize as sp\n",
        "\n",
        "def f(x):\n",
        "    y = np.cos(x)*np.sin(x)*(x**2+x+1)\n",
        "    return y\n",
        "\n",
        "def df(x):# Обчислення похідної\n",
        "    y1 = -(x**2+x+1)*(np.sin(x))**2\n",
        "    y2 = (x**2+x+1)*(np.cos(x))**2\n",
        "    y3 = (2*x+1)*np.sin(x)*np.cos(x)\n",
        "    y = y1+y2+y3\n",
        "    return y\n",
        "\n",
        "x0 = -1.4\n",
        "x1 = 1.4\n",
        "\n",
        "x_0 = sp.newton(f, x0, df, tol=1.e-3, maxiter=50)\n",
        "x_1 = sp.newton(f, x1, df, tol=1.e-3, maxiter=50)\n",
        "\n",
        "print('The approximate solution x is:', x_0)\n",
        "print('And the value f(x_0) is:', f(x_0))\n",
        "\n",
        "print('The approximate solution x is:', x_1)\n",
        "print('And the value f(x_0) is:', f(x_1))"
      ],
      "metadata": {
        "colab": {
          "base_uri": "https://localhost:8080/"
        },
        "id": "AonZxq_H0m6-",
        "outputId": "91c93a46-2342-4fc6-e6cd-16d3142ab394"
      },
      "execution_count": null,
      "outputs": [
        {
          "output_type": "stream",
          "name": "stdout",
          "text": [
            "The approximate solution x is: -1.5707963268782201\n",
            "And the value f(x_0) is: 1.5803176499052036e-10\n",
            "The approximate solution x is: 1.5707963267958693\n",
            "And the value f(x_0) is: -4.9007361645997675e-12\n"
          ]
        }
      ]
    },
    {
      "cell_type": "markdown",
      "source": [
        " # Знаходження коренів рівняння за допомогою бібліотеки SymPy"
      ],
      "metadata": {
        "id": "pvK9N9TH1QD-"
      }
    },
    {
      "cell_type": "code",
      "source": [
        "import sympy as sym\n",
        "\n",
        "x = sym.Symbol('x')\n",
        "\n",
        "y = sym.cos(x)*sym.sin(x)*(x**2+x+1)\n",
        "\n",
        "s = sym.solve(y)\n",
        "\n",
        "print(s)"
      ],
      "metadata": {
        "colab": {
          "base_uri": "https://localhost:8080/"
        },
        "id": "PuAp1WCr08qt",
        "outputId": "9cb85150-7a27-411b-9e1f-051e8615b528"
      },
      "execution_count": null,
      "outputs": [
        {
          "output_type": "stream",
          "name": "stdout",
          "text": [
            "[0, pi/2, pi, 3*pi/2, -1/2 - sqrt(3)*I/2, -1/2 + sqrt(3)*I/2]\n"
          ]
        }
      ]
    },
    {
      "cell_type": "code",
      "source": [
        "import sympy as sym\n",
        "\n",
        "x, a, b, c = sym.symbols('x, a, b, c')\n",
        "\n",
        "y = a * x**2 + b * x + c\n",
        "\n",
        "s = sym.solve(y, x)\n",
        "\n",
        "print(s)"
      ],
      "metadata": {
        "colab": {
          "base_uri": "https://localhost:8080/"
        },
        "id": "Y0d-uHtp1c7r",
        "outputId": "c2f42142-0c49-471e-de08-276ab7a4aaef"
      },
      "execution_count": null,
      "outputs": [
        {
          "output_type": "stream",
          "name": "stdout",
          "text": [
            "[(-b - sqrt(-4*a*c + b**2))/(2*a), (-b + sqrt(-4*a*c + b**2))/(2*a)]\n"
          ]
        }
      ]
    },
    {
      "cell_type": "markdown",
      "source": [],
      "metadata": {
        "id": "mk1oBvYj1GC2"
      }
    },
    {
      "cell_type": "code",
      "source": [
        "!pip install numdifftools"
      ],
      "metadata": {
        "colab": {
          "base_uri": "https://localhost:8080/"
        },
        "id": "yiLJNuM3Cq0-",
        "outputId": "a819a0b1-746b-49af-8f79-27b4a5d6de9e"
      },
      "execution_count": null,
      "outputs": [
        {
          "output_type": "stream",
          "name": "stdout",
          "text": [
            "Collecting numdifftools\n",
            "  Downloading numdifftools-0.9.41-py2.py3-none-any.whl.metadata (39 kB)\n",
            "Requirement already satisfied: numpy>=1.9 in /usr/local/lib/python3.12/dist-packages (from numdifftools) (2.0.2)\n",
            "Requirement already satisfied: scipy>=0.8 in /usr/local/lib/python3.12/dist-packages (from numdifftools) (1.16.1)\n",
            "Downloading numdifftools-0.9.41-py2.py3-none-any.whl (100 kB)\n",
            "\u001b[?25l   \u001b[90m━━━━━━━━━━━━━━━━━━━━━━━━━━━━━━━━━━━━━━━━\u001b[0m \u001b[32m0.0/100.2 kB\u001b[0m \u001b[31m?\u001b[0m eta \u001b[36m-:--:--\u001b[0m\r\u001b[2K   \u001b[90m━━━━━━━━━━━━━━━━━━━━━━━━━━━━━━━━━━━━━━━━\u001b[0m \u001b[32m100.2/100.2 kB\u001b[0m \u001b[31m4.2 MB/s\u001b[0m eta \u001b[36m0:00:00\u001b[0m\n",
            "\u001b[?25hInstalling collected packages: numdifftools\n",
            "Successfully installed numdifftools-0.9.41\n"
          ]
        }
      ]
    },
    {
      "cell_type": "code",
      "source": [
        "#Лабораторна робота 2\n",
        "#Відокремлення коренів\n",
        "import numpy as np\n",
        "import numdifftools as nd\n",
        "\n",
        "def f(x):\n",
        "    return x**4-108*x+7\n",
        "\n",
        "\n",
        "\n",
        "def find_segments(): #відокремлюємо корені\n",
        "    search_range = np.arange(-10, 10, 1)\n",
        "\n",
        "    a = None\n",
        "    previous_x = None\n",
        "    current_x  = None\n",
        "    segments = []\n",
        "\n",
        "    for x in search_range:\n",
        "        x = round(x, 4)\n",
        "        current_x = f(x)\n",
        "        if previous_x != None and previous_x * current_x < 0:\n",
        "            segments.append((a, x))\n",
        "        a = x\n",
        "        previous_x = current_x\n",
        "    return segments\n",
        "\n",
        "segments = find_segments()\n",
        "for a, b in segments:\n",
        "    print(f'Found segment:  [{a}, {b}]')\n"
      ],
      "metadata": {
        "colab": {
          "base_uri": "https://localhost:8080/"
        },
        "id": "L-9dn4npCso-",
        "outputId": "554cb99d-a5fa-4790-ea4f-c87cc0176b07"
      },
      "execution_count": null,
      "outputs": [
        {
          "output_type": "stream",
          "name": "stdout",
          "text": [
            "Found segment:  [0, 1]\n",
            "Found segment:  [4, 5]\n"
          ]
        }
      ]
    },
    {
      "cell_type": "code",
      "source": [
        "import numpy as np\n",
        "import matplotlib.pyplot as plt\n",
        "\n",
        "# Визначення функції\n",
        "def f(x):\n",
        "    return x**4-108*x+7\n",
        "\n",
        "# Генерація значень x\n",
        "x = np.linspace(-2, 6, 100)\n",
        "\n",
        "# Генерація значень y\n",
        "y = f(x)\n",
        "\n",
        "# Побудова графіка\n",
        "plt.figure(figsize=(8, 6))\n",
        "plt.plot(x, y, label='9*x^4 + 8*x^3 + 1.5*x^2 + 2*x - 10', color='blue')\n",
        "plt.title('Графік функції 9*x^4 + 8*x^3 + 1.5*x^2 + 2*x - 10')\n",
        "plt.xlabel('x')\n",
        "plt.ylabel('f(x)')\n",
        "\n",
        "# Додавання осей з стрілками\n",
        "plt.axhline(0, color='black', linewidth=0.5)\n",
        "plt.axvline(0, color='black', linewidth=0.5)\n",
        "\n",
        "plt.text(2.05, -4, 'x', ha='center', va='center')\n",
        "plt.text(-0.3, 190, 'y', ha='center', va='center')\n",
        "\n",
        "plt.grid(True)\n",
        "plt.legend()\n",
        "plt.show()\n"
      ],
      "metadata": {
        "colab": {
          "base_uri": "https://localhost:8080/",
          "height": 564
        },
        "id": "7zUI3d1xZXar",
        "outputId": "23020bee-0959-4e1b-914f-89201ad5d63b"
      },
      "execution_count": null,
      "outputs": [
        {
          "output_type": "display_data",
          "data": {
            "text/plain": [
              "<Figure size 800x600 with 1 Axes>"
            ],
            "image/png": "[encoded data removed]"
          },
          "metadata": {}
        }
      ]
    },
    {
      "cell_type": "markdown",
      "source": [
        "![image.png](data:image/png;base64,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)"
      ],
      "metadata": {
        "id": "QWOdJ-nM4bpd"
      }
    },
    {
      "cell_type": "code",
      "source": [
        "#Лабораторна робота. Метод половинного ділення, хорд\n",
        "\n",
        "def rec(a, b, eps):  # метод половинного ділення\n",
        "    while (np.abs(a - b) > eps):\n",
        "        if f(a) * f((a + b) / 2) < 0:\n",
        "            b = (a + b) / 2\n",
        "        else:\n",
        "            a = (a + b) / 2\n",
        "        x = (a + b) / 2\n",
        "\n",
        "    print('x= ', round(x, 5), '  -   Half division method')\n"
      ],
      "metadata": {
        "id": "BgjK94O9Cfxe"
      },
      "execution_count": null,
      "outputs": []
    },
    {
      "cell_type": "code",
      "source": [
        "def hord(a, b, eps):  # метод хорд\n",
        "    derivative_f = nd.Derivative(f, n=2)\n",
        "    if f(a) * derivative_f(a) > 0:\n",
        "        x0 = a\n",
        "        xi = b\n",
        "    else:\n",
        "        x0 = b\n",
        "        xi = a\n",
        "    xi_1 = xi - (xi - x0) * f(xi) / (f(xi) - f(x0))\n",
        "    while (np.abs(xi_1 - xi) > eps):\n",
        "        xi = xi_1\n",
        "        xi_1 = xi - (xi - x0) * f(xi) / (f(xi) - f(x0))\n",
        "    print('x= ', round(xi_1, 5), '  -   Chord method')\n"
      ],
      "metadata": {
        "id": "Sz_KWVf7D2tL"
      },
      "execution_count": null,
      "outputs": []
    },
    {
      "cell_type": "code",
      "source": [
        "if __name__ == \"__main__\":\n",
        "    a1, b1 = 0, 1\n",
        "    a2, b2 = 4, 5\n",
        "    eps = 0.001\n",
        "    print(\"Розв'язки на відрізку [-2,-1]\")\n",
        "    rec(a1, b1, eps)\n",
        "    hord(a1, b1, eps)\n",
        "    print(\"\\n Розв'язки на відрізку [0,1]\")\n",
        "    rec(a2, b2, eps)\n",
        "    hord(a2, b2, eps)"
      ],
      "metadata": {
        "id": "upx7R4yoFZj_",
        "outputId": "f366c08b-4b2b-42db-9592-62a5b35022e3",
        "colab": {
          "base_uri": "https://localhost:8080/"
        }
      },
      "execution_count": null,
      "outputs": [
        {
          "output_type": "stream",
          "name": "stdout",
          "text": [
            "Розв'язки на відрізку [-2,-1]\n",
            "x=  0.06494   -   Half division method\n",
            "x=  0.06481   -   Chord method\n",
            "\n",
            " Розв'язки на відрізку [0,1]\n",
            "x=  4.74072   -   Half division method\n",
            "x=  4.7403   -   Chord method\n"
          ]
        }
      ]
    },
    {
      "cell_type": "code",
      "source": [
        "import sympy as sym\n",
        "\n",
        "x, a, b, c = sym.symbols('x, a, b, c')\n",
        "f = 9*x**4 + 8*x**3 + 1.5*x**2 + 2*x - 10\n",
        "s = sym.solve(f, x)\n",
        "print(s)"
      ],
      "metadata": {
        "colab": {
          "base_uri": "https://localhost:8080/"
        },
        "id": "cYJ-q7uyvA2L",
        "outputId": "ad493804-49ae-41a6-a027-8b27b53940a0"
      },
      "execution_count": null,
      "outputs": [
        {
          "output_type": "stream",
          "name": "stdout",
          "text": [
            "[-1.34474950432843, 0.790916098101000, -0.16752774133073 - 1.00827587207094*I, -0.16752774133073 + 1.00827587207094*I]\n"
          ]
        }
      ]
    },
    {
      "cell_type": "code",
      "source": [
        "#Лабораторна робота 3. Метод Ньютона (дотичних). Комбінований метод\n",
        "\n",
        "import numpy as np\n",
        "import numdifftools as nd\n",
        "\n",
        "def f(x):\n",
        "    return 9*x**4 + 8*x**3 + 1.5*x**2 + 2*x - 10\n",
        "\n",
        "def nuton(a, b, eps, f):\n",
        "    df1 = nd.Derivative(f, n=1)   # створюємо callable для 1-ї похідної\n",
        "    df2 = nd.Derivative(f, n=2)   # і для 2-ї\n",
        "    xi = b if f(b) * df2(b) > 0 else a\n",
        "\n",
        "    xi_1 = xi - f(xi) / df1(xi)   # використовуємо актуальну похідну в точці xi\n",
        "    while np.abs(xi_1 - xi) > eps:\n",
        "        xi = xi_1\n",
        "        d = df1(xi)\n",
        "        if d == 0:\n",
        "            raise ZeroDivisionError(\"Похідна дорівнює нулю — зупинка.\")\n",
        "        xi_1 = xi - f(xi) / d\n",
        "\n",
        "    print('Метод Ньютона, x =', round(float(xi_1), 4))"
      ],
      "metadata": {
        "id": "t-FUcU4Fj0-f"
      },
      "execution_count": 51,
      "outputs": []
    },
    {
      "cell_type": "code",
      "source": [
        "def komb(a, b, eps, f):\n",
        "    df2 = nd.Derivative(f, n=2)(a)\n",
        "    if f(a) * df2 > 0:\n",
        "        a0 = a\n",
        "        b0 = b\n",
        "    else:\n",
        "        a0 = b\n",
        "        b0 = a\n",
        "    ai = a0\n",
        "    bi = b0\n",
        "    while np.abs(ai - bi) > eps:\n",
        "        ai_1 = ai - f(ai) * (bi - ai) / (f(bi) - f(ai))\n",
        "        bi_1 = bi - f(bi) / nd.Derivative(f, n=1)(bi)\n",
        "        ai = ai_1\n",
        "        bi = bi_1\n",
        "    x = (ai_1 + bi_1) / 2\n",
        "\n",
        "    print('Комбінований метод, x = ', x.round(4))\n"
      ],
      "metadata": {
        "id": "M2T4FA4ifyy_"
      },
      "execution_count": 52,
      "outputs": []
    },
    {
      "cell_type": "code",
      "source": [
        "if __name__ == \"__main__\":\n",
        "    a1, b1 = 0, 1\n",
        "    a2, b2 = 4, 5\n",
        "    eps = 0.001\n",
        "\n",
        "    print(\"Розв'язання на відрізку [-0, 1]\")\n",
        "    nuton(a1, b1, eps, f)\n",
        "    komb(a1, b1, eps, f)\n",
        "    print(\"\\n Розв'язання на відрізку [4, 5]\")\n",
        "    nuton(a2, b2, eps, f)\n",
        "    komb(a2, b2, eps, f)"
      ],
      "metadata": {
        "colab": {
          "base_uri": "https://localhost:8080/"
        },
        "id": "zrxTpvysf0zN",
        "outputId": "01fb0230-bcc0-4dc8-ba30-9fd95b15edf3"
      },
      "execution_count": 54,
      "outputs": [
        {
          "output_type": "stream",
          "name": "stdout",
          "text": [
            "Розв'язання на відрізку [-0, 1]\n",
            "Метод Ньютона, x = 0.7909\n",
            "Комбінований метод, x =  0.7909\n",
            "\n",
            " Розв'язання на відрізку [4, 5]\n",
            "Метод Ньютона, x = 0.7909\n",
            "Комбінований метод, x =  0.8017\n"
          ]
        }
      ]
    },
    {
      "cell_type": "markdown",
      "source": [
        "Завдання 3. Лабораторна робота 3\n",
        "\n",
        "Тема: Відокремлення дійсних коренів рівнянь та їх уточнення методом простої ітерації."
      ],
      "metadata": {
        "id": "370aMnuwjPeK"
      }
    },
    {
      "cell_type": "code",
      "source": [
        "!pip install numdifftools"
      ],
      "metadata": {
        "colab": {
          "base_uri": "https://localhost:8080/"
        },
        "id": "Rc37HrNui3h5",
        "outputId": "7e0ee106-5e5a-4054-bf4f-a7eff07a4a76"
      },
      "execution_count": 55,
      "outputs": [
        {
          "output_type": "stream",
          "name": "stdout",
          "text": [
            "Requirement already satisfied: numdifftools in /usr/local/lib/python3.12/dist-packages (0.9.41)\n",
            "Requirement already satisfied: numpy>=1.9 in /usr/local/lib/python3.12/dist-packages (from numdifftools) (2.0.2)\n",
            "Requirement already satisfied: scipy>=0.8 in /usr/local/lib/python3.12/dist-packages (from numdifftools) (1.16.1)\n"
          ]
        }
      ]
    },
    {
      "cell_type": "code",
      "source": [
        "import numdifftools as nd"
      ],
      "metadata": {
        "id": "mCRRGRFlizK1"
      },
      "execution_count": 56,
      "outputs": []
    },
    {
      "cell_type": "markdown",
      "source": [
        "![image.png](data:image/png;base64,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)"
      ],
      "metadata": {
        "id": "4q98Fm3pqrKn"
      }
    },
    {
      "cell_type": "markdown",
      "source": [
        "Визначаємо що на проміжку 0;1"
      ],
      "metadata": {
        "id": "wkc-gcu1qsce"
      }
    },
    {
      "cell_type": "markdown",
      "source": [
        "c=-0.19"
      ],
      "metadata": {
        "id": "72ds41B-0Xk3"
      }
    },
    {
      "cell_type": "code",
      "source": [
        "def f(x: float):\n",
        "    return x**3 - 0.2*x**2+0.5*x-1\n",
        "\n",
        "def fprime(x: float):\n",
        "    return nd.Derivative(f, n=1)\n",
        "\n",
        "def phi(x: float):\n",
        "    # c = -0.19 (забезпечує |phi'(x)|<1 на [-3,-1])\n",
        "    return x - 0.19 * f(x)\n",
        "\n",
        "def iterate_fixed_point(x0: float, iters: int = 5):\n",
        "    xs = [x0]\n",
        "    x = x0\n",
        "    for _ in range(iters):\n",
        "        x = phi(x)\n",
        "        xs.append(x)\n",
        "    return xs\n",
        "\n",
        "def error_bound(x_last: float) -> float:\n",
        "    # μ = min_{x∈[-3,-1]} |f'(x)| = 2\n",
        "    mu = 2.0\n",
        "    return abs(f(x_last)) / mu\n",
        "\n"
      ],
      "metadata": {
        "id": "gt8HxS1AiM0Y"
      },
      "execution_count": 57,
      "outputs": []
    },
    {
      "cell_type": "code",
      "source": [
        "def main():\n",
        "    x0 = 1.0\n",
        "    iters = 5\n",
        "    xs = iterate_fixed_point(x0, iters)\n",
        "    print(\"Fixed-point iteration for f(x) = x^3 - x + 7 with phi(x) = x - 0.1*f(x)\")\n",
        "    print(f\"Interval: [-3, -1], start x0 = {x0}\")\n",
        "    for i, xi in enumerate(xs):\n",
        "        if i == 0:\n",
        "            print(f\"x_{i} = {xi:.10f}\")\n",
        "        else:\n",
        "            print(f\"x_{i} = phi(x_{i-1}) = {xi:.10f}\")\n",
        "    bound = error_bound(xs[-1])\n",
        "    print(\"\\nError bound after 5 iterations:  |ξ - x5| ≤ |f(x5)| / μ\")\n",
        "    print(f\"f(x5) = {f(xs[-1]):.10f},  μ = 2  ⇒  |ξ - x5| ≤ {bound:.10f}\")\n",
        "    return xs[-1], bound\n",
        "\n",
        "if __name__ == \"__main__\":\n",
        "    root_approx, bound = main()"
      ],
      "metadata": {
        "colab": {
          "base_uri": "https://localhost:8080/"
        },
        "id": "NcUIwAOAimLR",
        "outputId": "c69797bc-9dc1-4d04-9259-737beaebf4e1"
      },
      "execution_count": 58,
      "outputs": [
        {
          "output_type": "stream",
          "name": "stdout",
          "text": [
            "Fixed-point iteration for f(x) = x^3 - x + 7 with phi(x) = x - 0.1*f(x)\n",
            "Interval: [-3, -1], start x0 = 1.0\n",
            "x_0 = 1.0000000000\n",
            "x_1 = phi(x_0) = 0.9430000000\n",
            "x_2 = phi(x_1) = 0.9178797187\n",
            "x_3 = phi(x_2) = 0.9057661160\n",
            "x_4 = phi(x_3) = 0.8997046923\n",
            "x_5 = phi(x_4) = 0.8966188496\n",
            "\n",
            "Error bound after 5 iterations:  |ξ - x5| ≤ |f(x5)| / μ\n",
            "f(x5) = 0.0083389853,  μ = 2  ⇒  |ξ - x5| ≤ 0.0041694927\n"
          ]
        }
      ]
    },
    {
      "cell_type": "markdown",
      "source": [
        "Спрощений варіант коду\n"
      ],
      "metadata": {
        "id": "_gkwLHTNkDwS"
      }
    },
    {
      "cell_type": "code",
      "source": [
        "# Рівняння: f(x) = x^3 - x + 7 = 0\n",
        "# Ітераційна функція: φ(x) = x - 0.1 * f(x)  (c = -0.1)\n",
        "# Початкове наближення: x0 = -1\n",
        "# Кількість ітерацій: 5\n",
        "# Оцінка похибки: |ξ - x5| ≤ |f(x5)| / μ, де μ = min_{[-3,-1]} |f'(x)| = 2\n",
        "\n",
        "def f(x):\n",
        "    return x**3-0.2*x**2+0.5*x-1\n",
        "\n",
        "def phi(x):\n",
        "    return x - 0.19 * f(x)   # c = -0.1\n",
        "\n",
        "def fixed_point(x0=1.0, iters=5):\n",
        "    xs = [x0]\n",
        "    for _ in range(iters):\n",
        "        xs.append(phi(xs[-1]))\n",
        "    return xs\n",
        "\n",
        "# Запуск і вивід результатів\n",
        "xs = fixed_point(1.0, 5)\n",
        "\n",
        "for i, xi in enumerate(xs):\n",
        "    print(f\"x_{i} = {xi:.10f}\")\n",
        "\n",
        "# Похибка методу простої ітерації після 5-ї ітерації\n",
        "mu = 2.0                      # μ = min_{[-3,-1]} |3x^2 - 1| = 2\n",
        "err_bound = abs(f(xs[-1]))/mu\n",
        "print(f\"\\nОцінка похибки: |ξ - x5| ≤ {err_bound:.10f}\")"
      ],
      "metadata": {
        "colab": {
          "base_uri": "https://localhost:8080/"
        },
        "id": "womZO91vj9vN",
        "outputId": "e1b15373-1c21-46f3-f00c-810f9eb979a8"
      },
      "execution_count": 59,
      "outputs": [
        {
          "output_type": "stream",
          "name": "stdout",
          "text": [
            "x_0 = 1.0000000000\n",
            "x_1 = 0.9430000000\n",
            "x_2 = 0.9178797187\n",
            "x_3 = 0.9057661160\n",
            "x_4 = 0.8997046923\n",
            "x_5 = 0.8966188496\n",
            "\n",
            "Оцінка похибки: |ξ - x5| ≤ 0.0041694927\n"
          ]
        }
      ]
    }
  ]
}